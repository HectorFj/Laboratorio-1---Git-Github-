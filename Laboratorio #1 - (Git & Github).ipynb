{
 "cells": [
  {
   "cell_type": "markdown",
   "id": "1b6210f9-2118-4b0a-8784-6db529422129",
   "metadata": {},
   "source": [
    "Que es Git"
   ]
  },
  {
   "cell_type": "markdown",
   "id": "dfb56b02-6f1b-4af3-9095-d2d8e67db109",
   "metadata": {},
   "source": [
    "Es un sistema que nos permite controlar un mismo archivo en diferentes versiones, esto es de gran ayuda debido a que si tener una versión de programa y se realizan actualizaciones puede ocurrir que no puedan ser abiertas.\n",
    "\n",
    "En otras palabras git es un clon local del proyecto es un repositorio de control de versiones. Estos repositorios permiten trabajar sin conexión o de forma remota con mucha facilidad. Los desarrolladores deben confirmar su trabajo localmente y posteriormente se debe sincronizar las copias del repositorio con el servidor. \n",
    "Git es un sistema muy flexible y tambien muy popular y eso lo convierte una opción excelente para que sea utilizado por cualquier equipo que lo necesite o lo desee.\n",
    "\n",
    "Aspectos básicos\n",
    "Una de las carateristicas que tiene git es tuq al momento de guardar un trabajo automaticamente se crea una instantane lo que quiere decir es que se guarda una copia de todos los archivos hasta ese momento. \n",
    "Las confirmaciones crean vínculos u otras confirmaciones, formando un gráfico del historial de desarrollo.\n",
    "\n",
    "Ramas\n",
    "Cada desarrollador guarda los cambios en su propio repositorio de código local. Pueden haber varios cambios basados en la misma confirmación. \n",
    "\n",
    "Ventajas\n",
    "    Desarrollo simultaneo\n",
    "        Cada usuario tiene su propia copia local de código y puede trabajar simultaneamente.\n",
    "    Versiones de lanzamiento más rapidas\n",
    "        Las ramas permiten un desarrollo flexible y simultáneo, la rama principal cuenta con códifo estable y de alta calidad desde el\n",
    "        que la publica.\n",
    "    Integración incorporada\n",
    "        Se integra en la mayoria de las herramientas y productos.\n",
    "    Sólido soporte técnico de la comunidad\n",
    "        Es de código abierto y se ha convertido en el estándar de facto para el control de varsiones.\n",
    "    Funciona con cualquier equipo\n",
    "        Aumenta la productividad de un equipo al fomentar la colaboración, aplicar directivas, automatizar procesos y mejorar la       visibilidad y la rastreabilidad.\n",
    "        \n",
    "https://learn.microsoft.com/es-es/devops/develop/git/what-is-git\n"
   ]
  },
  {
   "cell_type": "code",
   "execution_count": null,
   "id": "062cf09f-0506-46bb-ac15-50a2cd9ace78",
   "metadata": {},
   "outputs": [],
   "source": [
    "Que es GitHub"
   ]
  },
  {
   "cell_type": "code",
   "execution_count": null,
   "id": "98d6170e-1055-4371-95d5-139affe2332e",
   "metadata": {},
   "outputs": [],
   "source": [
    "Es un sistema o una plataforma que nos permite crear proyectos abiertos de herramientas y aplicaciones y se caracteriza sobre \n",
    "todo por sus funciones colaborativas que ayudan a que totos puedan aportar su granito de arena para realizar una mejora del código.\n",
    "Por medio de esta plataforma los proyectos pueden ser descargados para que sean revisados por cualquier usuario y realizar \n",
    "modificaciones necesarias.\n",
    "\n",
    "Git gub es un portal para gestionar aplicaciones que utilizan el sistema git. Además de permitirte mirar el código y descargarte\n",
    "las diferentes versiones de una plicación, la plataforma también hace las veces de red social conectado desarroladores con usuarios\n",
    "para que estos pueden colaborar mejorando la aplicación.\n",
    "\n",
    "Que ofrece\n",
    "    Permite que los desarrolladores alojen proyectos creando repositorios de forma gratuita.\n",
    "    Puedes utilizar a los proyectos de los demás y colaborar para mejorarlos.\n",
    "    Ofrece  una serie de herramietnas propias que complementan las ventas que ya tiene el sistema.\n",
    "    Ofrece un sistema de seguimiento de problemas.\n",
    "    Ofrece una herramienta de revisión de código, es decir que no sólo se pueda mirar si no que también se puede dejar anotaciones\n",
    "    en el código.\n",
    "    \n",
    "\n",
    "https://www.xataka.com/basics/que-github-que-que-le-ofrece-a-desarrolladores\n",
    "    \n"
   ]
  }
 ],
 "metadata": {
  "kernelspec": {
   "display_name": "Python 3 (ipykernel)",
   "language": "python",
   "name": "python3"
  },
  "language_info": {
   "codemirror_mode": {
    "name": "ipython",
    "version": 3
   },
   "file_extension": ".py",
   "mimetype": "text/x-python",
   "name": "python",
   "nbconvert_exporter": "python",
   "pygments_lexer": "ipython3",
   "version": "3.11.5"
  }
 },
 "nbformat": 4,
 "nbformat_minor": 5
}
